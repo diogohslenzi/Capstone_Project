{
 "cells": [
  {
   "cell_type": "markdown",
   "metadata": {},
   "source": [
    "# Capstone Project - The Battle of the Neighborhoods (Week 1)\n",
    "### Applied Data Science Capstone by IBM/Coursera"
   ]
  },
  {
   "cell_type": "markdown",
   "metadata": {},
   "source": [
    "## Table Of Contents\n",
    "* [Introduction: Business Problem](#introduction)\n",
    "* [Data](#data)"
   ]
  },
  {
   "cell_type": "markdown",
   "metadata": {},
   "source": [
    "## Introduction: Business Problem <a name=\"introduction\"></a>"
   ]
  },
  {
   "cell_type": "markdown",
   "metadata": {},
   "source": [
    "This project serves the purpose to find an optimal location for a restaurant in New Zealand. More specifically, this report will be targeted to stakeholders interested in opening a **Brazilian restaurant** in **Auckland**, the most populous city in the country, also the hosting location for almost than half of the Brazilian migrants, according to the local Census Report.\n",
    "\n",
    "Considering that Auckland is already a very saturated city, with a great diversity of restaurants, this report will focus on three basic criteria:\n",
    "1. It will show **locations that are not already crowded with restaurants**.\n",
    "2. It will prioritize  **areas with no Brazilian restaurants in vicinity**.\n",
    "3. Assuming that the above-mentioned conditions are met, the report will also preference locations **as close to the city center as possible**.\n",
    "\n",
    "Data Science tools will be used to apoint the most promissing neighborhoods based on these criteria. Advantages of each area will then be clearly expressed so that best possible final location can be chosen by stakeholders."
   ]
  },
  {
   "cell_type": "markdown",
   "metadata": {},
   "source": [
    "## Data <a name=\"data\"></a>"
   ]
  },
  {
   "cell_type": "markdown",
   "metadata": {},
   "source": [
    "Based on the definition of the problem, the main factors that will influence the decision-making of the stakeholders are:\n",
    "1. The number of existing restaurants in the neighborhood (any type of restaurant)\n",
    "2. The number of and distance to Brazilian restaurants in the neighborhood\n",
    "3. The distance of the neighborhood from the city center\n",
    "\n",
    "We decided to use a regularly spaced grid of locations, centered around city center, to define our neighborhoods.\n",
    "\n",
    "The following data sources will be needed to extract and generate the required information:\n",
    "* Centers of candidate areas will be generated algorithmically and approximate addresses of centers of those areas will be obtained using **Google Maps API reverse geocoding**\n",
    "* The number of restaurants and their type and location in every neighborhood will be obtained using the **Foursquare API**\n",
    "* The coordinates of Auckland city center will be obtained using **Google Maps API geocoding**, considering the exact location of the Sky Tower"
   ]
  },
  {
   "cell_type": "code",
   "execution_count": null,
   "metadata": {},
   "outputs": [],
   "source": []
  }
 ],
 "metadata": {
  "kernelspec": {
   "display_name": "Python 3",
   "language": "python",
   "name": "python3"
  },
  "language_info": {
   "codemirror_mode": {
    "name": "ipython",
    "version": 3
   },
   "file_extension": ".py",
   "mimetype": "text/x-python",
   "name": "python",
   "nbconvert_exporter": "python",
   "pygments_lexer": "ipython3",
   "version": "3.7.6"
  }
 },
 "nbformat": 4,
 "nbformat_minor": 4
}
