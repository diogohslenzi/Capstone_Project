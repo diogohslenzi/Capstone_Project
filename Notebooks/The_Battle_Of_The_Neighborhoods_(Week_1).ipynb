{
  "nbformat": 4,
  "nbformat_minor": 0,
  "metadata": {
    "kernelspec": {
      "display_name": "Python 3",
      "language": "python",
      "name": "python3"
    },
    "language_info": {
      "codemirror_mode": {
        "name": "ipython",
        "version": 3
      },
      "file_extension": ".py",
      "mimetype": "text/x-python",
      "name": "python",
      "nbconvert_exporter": "python",
      "pygments_lexer": "ipython3",
      "version": "3.7.6"
    },
    "colab": {
      "name": "The Battle Of The Neighborhoods (Week 1).ipynb",
      "provenance": []
    }
  },
  "cells": [
    {
      "cell_type": "markdown",
      "metadata": {
        "id": "SmpF9ZMPC8Is",
        "colab_type": "text"
      },
      "source": [
        "# **The Battle of the Neighborhoods: Ice Cream Shop in Budapest, Hungary**\n",
        "### [Applied Data Science Capstone by IBM/Coursera](https://www.coursera.org/learn/applied-data-science-capstone)\n",
        "*Capstone Project - Week 1*"
      ]
    },
    {
      "cell_type": "markdown",
      "metadata": {
        "id": "si1-BaBbDPKU",
        "colab_type": "text"
      },
      "source": [
        "![Night panorama of the Gellért Hill, Budapest](https://upload.wikimedia.org/wikipedia/commons/9/91/Panoramic_view_of_Budapest_2014.jpg)"
      ]
    },
    {
      "cell_type": "markdown",
      "metadata": {
        "id": "Qt0l0YZMC8Ix",
        "colab_type": "text"
      },
      "source": [
        "###Table of Contents\n",
        "* [1. Introduction](#1.-Introduction)\n",
        "\t* [1.1. Budapest](#1.1.-Budapest)\n",
        "\t* [1.2. Business Problem](#1.2.-Business-Problem)\n",
        "\t* [1.3. Interest](#1.3.-Interest)\n",
        "* [2. Data Acquisition And Preparation](#2.-Data-Acquisition-And-Preparation)\n",
        "\t* [2.1 Data Sources](#2.1-Data-Sources)\n",
        "\t* [2.2 Data Preparation](#2.2-Data-Preparation)"
      ]
    },
    {
      "cell_type": "markdown",
      "metadata": {
        "id": "rpNowPviC8I0",
        "colab_type": "text"
      },
      "source": [
        "### 1. Introduction<a name=\"1.-Introduction\"></a>"
      ]
    },
    {
      "cell_type": "markdown",
      "metadata": {
        "id": "2t4vadReC8I3",
        "colab_type": "text"
      },
      "source": [
        "This is report is part of the Applied Data Science Capstone course available at the Coursera Platform. This course is the ninth and final in the composition of the [IBM Data Science Professional Certificate](https://www.coursera.org/professional-certificates/ibm-data-science).\n",
        "\n",
        "This project consists of two main parts that will be delivered separately:\n",
        "1.   Business problem and data preparation\n",
        "2.   Methodology, visualization, results and conclusion\n",
        "\n",
        "This section, therefore, will cover the discussion about the business problem and the acquisition of data for its future solution."
      ]
    },
    {
      "cell_type": "markdown",
      "metadata": {
        "id": "x4YIkOUpQHbM",
        "colab_type": "text"
      },
      "source": [
        "#### 1.1. Budapest<a name=\"1.1.-Budapest\"></a>\n"
      ]
    },
    {
      "cell_type": "markdown",
      "metadata": {
        "id": "YMtqiDPDMwGo",
        "colab_type": "text"
      },
      "source": [
        "\n",
        "Budapest is the capital and the most populous city of Hungary, and the ninth-largest city in the European Union by population within city limits. It is considered an Alpha City, in other words, a Global City with strengths in commerce, finance, media, art, fashion, research, technology, education, and entertainment. It is Hungary's financial centre and was ranked as the second fastest-developing urban economy in Europe. Budapest attracts around 12 million international tourists per year, making it a highly popular destination in Europe. The city was chosen as the Best European Destination of 2019, a major poll conducted by EBD, a tourism organisation partnering with the European Commission. It also topped the Best European Destinations 2020 list by Big7Media.\n",
        "\n",
        "*Source: [Wikipedia](https://en.wikipedia.org/wiki/Budapest)*"
      ]
    },
    {
      "cell_type": "markdown",
      "metadata": {
        "id": "0n6b5jchR2rU",
        "colab_type": "text"
      },
      "source": [
        "#### 1.2. Business Problem<a name=\"1.2.-Business-Problem\"></a>"
      ]
    },
    {
      "cell_type": "markdown",
      "metadata": {
        "id": "K9NycwdOSDDh",
        "colab_type": "text"
      },
      "source": [
        "Considering the great historical and tourist importance of Budapest and its economic influence, not only over Hungary but over the entire European Union, many investors and entrepreneurs have turned their attention to the region. To achieve the purposes of this project, this report is focused on presenting a study that identifies the best location for opening a food venue in Budapest. More specifically, this study is aimed at stakeholders and investors who wish to open an Ice Cream Shop in the **busiest region of the city**.\n",
        "\n",
        "Furthermore, a systematic solution to this problem should be presented with the fulfillment of three main requirements:\n",
        "1.   **Finding the busiest district in Budapest:** The interest of investors and stakeholders in identifying such location is justified considering that a busy spot brings greater movement and circulation to an establishment, therefore increases its chance of success, due brand awareness and a potential increase in clientele.\n",
        "2.   **Finding the direct competitors in the area of the busiest district**: The goal of this requirement is to find the regions within the busiest district that are already saturated with direct competitors. This new Ice Cream Shop should be open in an area with a minimum possible competition. For this analysis, a \"direct competitor\" is defined as another venue that is specialized in ice cream.\n",
        "3.   **Finding a cluster of food venues that are not direct competitors**: Most cities have regions with clusters of restaurants, bars, and pubs. These clusters are an optimal location for this Ice Cream Shop, considering that after a proper meal, people tend to look forward to a great dessert."
      ]
    },
    {
      "cell_type": "markdown",
      "metadata": {
        "colab_type": "text",
        "id": "wJf-j1xEh11E"
      },
      "source": [
        "#### 1.3. Interest<a name=\"1.3.-Interest\"></a>"
      ]
    },
    {
      "cell_type": "markdown",
      "metadata": {
        "colab_type": "text",
        "id": "mBXj6bDJh11J"
      },
      "source": [
        "Briefly, the Business Problem is finding a place with a great movement of people, surrounded by food venues, with a low incidence of direct competitors. Fulfilling the upper mentioned requirements is the goal of this study, which is beneficial to the stakeholders and investors of this new Ice Cream Venue. Assertiveness in the location choice of this venue is a keen factor to its future success."
      ]
    },
    {
      "cell_type": "markdown",
      "metadata": {
        "id": "KoP_t9BeC8I7",
        "colab_type": "text"
      },
      "source": [
        "## 2. Data Acquisition And Preparation <a name=\"2.-Data-Acquisition-And-Preparation\"></a>"
      ]
    },
    {
      "cell_type": "markdown",
      "metadata": {
        "id": "eix8JlNcC8I_",
        "colab_type": "text"
      },
      "source": [
        "Based on the business problem's definition, the main factors that will influence the decision-making of the stakeholders are:\n",
        "1. The number of people per square kilometer (population density) of the neighborhood\n",
        "2. The number of direct competitors (Ice Cream Shops) within the densest neighborhood\n",
        "3. The existence of many other types of food providers within the densest neighborhood"
      ]
    },
    {
      "cell_type": "markdown",
      "metadata": {
        "colab_type": "text",
        "id": "wLr7j6xxbvCr"
      },
      "source": [
        "#### 2.1 Data Sources<a name=\"2.1-Data-Sources\"></a>"
      ]
    },
    {
      "cell_type": "markdown",
      "metadata": {
        "id": "S27x8fu2dLzk",
        "colab_type": "text"
      },
      "source": [
        "**DEMOGRAPHIC DATA**\n",
        "\n",
        "Data on the population density of each district of Budapest can be found on Wikipedia:\n",
        "*   Article Name: [Budapest](https://en.wikipedia.org/wiki/Budapest)\n",
        "*   Article Name: [List Of Districts In Budapest](https://en.wikipedia.org/wiki/List_of_districts_in_Budapest)\n",
        "\n",
        "**GEODATA**\n",
        "\n",
        "*   JSON and GeoJSON files for mapping purposes can be found in this [GitHub Repository](https://github.com/integralvision/geo-data-hungary)\n",
        "*   The [Foursquare API](https://developer.foursquare.com/) will be providing the geospatial data of venues.\n",
        "\n",
        "**BUSINESS DATA**\n",
        "\n",
        "*   The [Foursquare API](https://developer.foursquare.com/) also will be providing the data of venue categories, competitors, and food-related businesses."
      ]
    }
  ]
}